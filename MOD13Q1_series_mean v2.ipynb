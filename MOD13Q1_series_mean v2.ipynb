{
 "cells": [
  {
   "cell_type": "code",
   "execution_count": null,
   "id": "903eadb0-0b52-48ab-8c88-dd742f02c5bc",
   "metadata": {},
   "outputs": [],
   "source": [
    "#import libraries\n",
    "from osgeo import gdal, osr\n",
    "import numpy as np\n",
    "import glob"
   ]
  },
  {
   "cell_type": "code",
   "execution_count": null,
   "id": "00db3ee3-8d88-4b24-97fb-045fe809b65e",
   "metadata": {},
   "outputs": [],
   "source": [
    "#create function to convert array into GeoTIFF raster\n",
    "def array2raster(newRasterfn, dataset, array, dtype):\n",
    "    \"\"\"\n",
    "    save GTiff file from numpy.array\n",
    "    input:\n",
    "        newRasterfn: save file name\n",
    "        dataset : original tif file\n",
    "        array : numpy.array\n",
    "        dtype: Byte or Float32.\n",
    "    \"\"\"\n",
    "    \n",
    "    rows = array.shape[0]\n",
    "    cols = array.shape[1]\n",
    "    print (\"cols and rows: \", cols, rows)\n",
    "    \n",
    "    originX, pixelWidth, b, originY, d, pixelHeight= dataset.GetGeoTransform()\n",
    "    print (\"originX, pixelWidth, b, originY, d, pixelHeight:\",originX, pixelWidth, b, originY, d, pixelHeight)\n",
    "\n",
    "    driver = gdal.GetDriverByName('GTiff')\n",
    "\n",
    "    # set data type to save.\n",
    "    GDT_dtype = gdal.GDT_Unknown\n",
    "    if dtype == \"Byte\": \n",
    "        GDT_dtype = gdal.GDT_Byte\n",
    "    elif dtype == \"Float32\":\n",
    "        GDT_dtype = gdal.GDT_Float32\n",
    "    else:\n",
    "        print(\"Not supported data type.\")\n",
    "\n",
    "    # set number of band.\n",
    "    band_num = 1\n",
    "\n",
    "    outRaster = driver.Create(newRasterfn, cols, rows, band_num, GDT_dtype)\n",
    "    outRaster.SetGeoTransform((originX,pixelWidth, 0, originY, 0, pixelHeight))\n",
    "    originXOut, pixelWidthOut, bOut, originYOut, dOut, pixelHeightOut = outRaster.GetGeoTransform()\n",
    "    print (\"originXOut, pixelWidthOut, bOut, originYOut, dOut, pixelHeightOut:\",originXOut, pixelWidthOut, bOut, originYOut, dOut, pixelHeightOut)\n",
    "    \n",
    "    # Loop over all bands.\n",
    "    for b in range(band_num):\n",
    "        outband = outRaster.GetRasterBand(b + 1)\n",
    "        # Read in the band's data into the third dimension of our array\n",
    "        if band_num == 1:\n",
    "            outband.WriteArray(array)\n",
    "        else:\n",
    "            outband.WriteArray(array[b,:,:])\n",
    "\n",
    "    # setteing srs from input tif file.\n",
    "    prj=dataset.GetProjection()\n",
    "    outRasterSRS = osr.SpatialReference(wkt=prj)\n",
    "    outRaster.SetProjection(outRasterSRS.ExportToWkt())\n",
    "    outband.FlushCache()"
   ]
  },
  {
   "cell_type": "code",
   "execution_count": null,
   "id": "756584f5-b7c3-49c0-b5b6-ac51f646b096",
   "metadata": {},
   "outputs": [],
   "source": [
    "#define paths\n",
    "path = r'C:/.../*.tif'#path of layers to extract statistics from\n",
    "TMPpath=\"C:/.../\"#output folder\n",
    "\n",
    "#create list of files\n",
    "files = glob.glob(path)\n",
    "print(files)"
   ]
  },
  {
   "cell_type": "code",
   "execution_count": null,
   "id": "f40fd7fc-849c-484d-81a2-29a94cfb975a",
   "metadata": {},
   "outputs": [],
   "source": [
    "#create an empty array that has the same size as the rasters\n",
    "ds1 = gdal.Open(files[0])\n",
    "b1 = ds1.GetRasterBand(1)\n",
    "refRaster = b1.ReadAsArray()*0\n",
    "\n",
    "#sum all files divided by the number of files\n",
    "for file in files:\n",
    "    ds2 = gdal.Open(file)\n",
    "    b2 = ds2.GetRasterBand(1)\n",
    "    file2 = b2.ReadAsArray()#read file as a numpy array\n",
    "    file2=np.divide(file2,len(files))#divide file values by the number of files (done this way to avoid loading memory with large numbers)\n",
    "    refRaster=np.add(refRaster,file2)#sum values from all files\n",
    "    print (\"file processed: \",file)\n",
    "    ds2=None\n",
    "    b2=None\n",
    "    file2=None   \n",
    "array2raster(TMPpath+\"EVI_mean.tif\",gdal.Open(files[0]), refRaster, \"Float32\")#export file to GeoTIFF\n",
    "ds1 = None\n",
    "b1=None\n",
    "refRaster=None       "
   ]
  },
  {
   "cell_type": "code",
   "execution_count": null,
   "id": "4a7d2083-a9d1-4ea5-aecc-888fb5796010",
   "metadata": {},
   "outputs": [],
   "source": []
  }
 ],
 "metadata": {
  "kernelspec": {
   "display_name": "Python 3 (ipykernel)",
   "language": "python",
   "name": "python3"
  },
  "language_info": {
   "codemirror_mode": {
    "name": "ipython",
    "version": 3
   },
   "file_extension": ".py",
   "mimetype": "text/x-python",
   "name": "python",
   "nbconvert_exporter": "python",
   "pygments_lexer": "ipython3",
   "version": "3.7.11"
  }
 },
 "nbformat": 4,
 "nbformat_minor": 5
}
